{
 "cells": [
  {
   "cell_type": "markdown",
   "metadata": {},
   "source": [
    "# Finding the Best Experts to Follow for Fantasy Football  \n",
    "\n",
    "If you've been playing fanasty football for a while or if this is your first season, you'll notice that the draft experts and the in-season experts are not always the same. The past several seasons, I've had a great draft and a not-so-great season. This year, I plan on following only the experts that excel at both the draft and in-season accuracy."
   ]
  },
  {
   "cell_type": "code",
   "execution_count": 1,
   "metadata": {},
   "outputs": [],
   "source": [
    "%matplotlib inline\n",
    "import warnings\n",
    "import numpy as np\n",
    "import pandas as pd\n",
    "import seaborn as sns\n",
    "import matplotlib.pyplot as plt\n",
    "from sklearn.mixture import GaussianMixture\n",
    "from sklearn.preprocessing import StandardScaler\n",
    "warnings.filterwarnings(\"ignore\")\n",
    "plt.style.use('ggplot')"
   ]
  },
  {
   "cell_type": "markdown",
   "metadata": {},
   "source": [
    "### Read and Clean the Draft Expert Rankings"
   ]
  },
  {
   "cell_type": "code",
   "execution_count": 2,
   "metadata": {},
   "outputs": [],
   "source": [
    "df = pd.read_csv('FantasyPros_Fantasy_Football_Draft_Accuracy.csv')"
   ]
  },
  {
   "cell_type": "code",
   "execution_count": 3,
   "metadata": {},
   "outputs": [],
   "source": [
    "def df_cleanup(df,expert='Draft_'):\n",
    "    df = df.replace('-',0).set_index('Expert Name')\n",
    "    df[df.columns.values] = df[df.columns.values].apply(pd.to_numeric, errors='coerce')\n",
    "    df = df.fillna(0)\n",
    "    df = df.rename(columns=dict(zip(df.columns.values,[expert + col for col in df.columns.values])))\n",
    "    return df"
   ]
  },
  {
   "cell_type": "code",
   "execution_count": 4,
   "metadata": {},
   "outputs": [],
   "source": [
    "df = df_cleanup(df)"
   ]
  },
  {
   "cell_type": "markdown",
   "metadata": {},
   "source": [
    "### Read and Clean the In-Season Expert Rankings"
   ]
  },
  {
   "cell_type": "code",
   "execution_count": 5,
   "metadata": {},
   "outputs": [],
   "source": [
    "df2 = pd.read_csv('FantasyPros_Fantasy_Football_2017_SeasonToDate_Accuracy.csv')"
   ]
  },
  {
   "cell_type": "code",
   "execution_count": 6,
   "metadata": {},
   "outputs": [],
   "source": [
    "df2 = df_cleanup(df2,expert='Season_')"
   ]
  },
  {
   "cell_type": "markdown",
   "metadata": {},
   "source": [
    "### Join the Expert Dataframes"
   ]
  },
  {
   "cell_type": "code",
   "execution_count": 7,
   "metadata": {},
   "outputs": [],
   "source": [
    "df = df.drop_duplicates(df)\n",
    "df = df.drop(df.index[[0]])\n",
    "df2 = df2.drop_duplicates(df2)\n",
    "df2 = df2.drop(df2.index[[0]])\n",
    "new_df = df.join(df2)"
   ]
  },
  {
   "cell_type": "code",
   "execution_count": 8,
   "metadata": {},
   "outputs": [],
   "source": [
    "new_df = new_df[new_df['Season_Rank'] > 0]\n",
    "new_df = new_df[new_df['Draft_Rank'] > 0]\n",
    "new_df = new_df[['Draft_Rank','Season_Rank','Draft_QB','Season_QB',\n",
    "                 'Draft_RB','Season_RB','Draft_WR','Season_WR', 'Draft_TE',\n",
    "                 'Season_TE','Draft_K','Season_K','Draft_DST', 'Season_DST']]\n",
    "new_df['Rank_Avg'] = new_df[['Draft_Rank', 'Season_Rank']].mean(axis=1)\n",
    "new_df['Rank_Std'] = new_df[['Draft_Rank', 'Season_Rank']].std(axis=1)\n",
    "new_df = new_df[new_df['Rank_Avg'] > 0]"
   ]
  },
  {
   "cell_type": "code",
   "execution_count": 9,
   "metadata": {},
   "outputs": [],
   "source": [
    "new_df = new_df[np.isfinite(new_df['Rank_Std'])]"
   ]
  },
  {
   "cell_type": "markdown",
   "metadata": {},
   "source": [
    "### Clustering the Experts"
   ]
  },
  {
   "cell_type": "code",
   "execution_count": 10,
   "metadata": {},
   "outputs": [],
   "source": [
    "X = StandardScaler().fit_transform(new_df.values)\n",
    "lowest_bic = np.infty\n",
    "lowest_aic = np.infty\n",
    "bic = []\n",
    "aic = []\n",
    "n_components_range = range(1, 11)\n",
    "cv_types = ['spherical', 'tied', 'diag', 'full']\n",
    "for cv_type in cv_types:\n",
    "    for n_components in n_components_range:\n",
    "        gmm = GaussianMixture(n_components=n_components,\n",
    "                                      covariance_type=cv_type,random_state=42)\n",
    "        gmm.fit(X)\n",
    "        bic.append(gmm.bic(X))\n",
    "        aic.append(gmm.aic(X))\n",
    "        if bic[-1] < lowest_bic and aic[-1] < lowest_aic:\n",
    "            lowest_bic = bic[-1]\n",
    "            lowest_aic = aic[-1]\n",
    "            best_gmm = gmm"
   ]
  },
  {
   "cell_type": "code",
   "execution_count": 11,
   "metadata": {},
   "outputs": [],
   "source": [
    "best_gmm.fit(X)\n",
    "expert = best_gmm.predict(X)\n",
    "new_df['expert_level'] = expert"
   ]
  },
  {
   "cell_type": "code",
   "execution_count": 12,
   "metadata": {},
   "outputs": [],
   "source": [
    "draft_avg = []\n",
    "seas_avg = []\n",
    "comp_score = []\n",
    "for i in range(len(np.unique(expert))):\n",
    "    draft = new_df[new_df['expert_level'] == i][['Draft_Rank']].mean(axis=0)\n",
    "    seas = new_df[new_df['expert_level'] == i][['Season_Rank']].mean(axis=0)\n",
    "    composite = np.mean((draft,seas))\n",
    "    draft_avg.append(draft)\n",
    "    seas_avg.append(seas)\n",
    "    comp_score.append(composite)"
   ]
  },
  {
   "cell_type": "code",
   "execution_count": 13,
   "metadata": {},
   "outputs": [
    {
     "data": {
      "text/html": [
       "<div>\n",
       "<style scoped>\n",
       "    .dataframe tbody tr th:only-of-type {\n",
       "        vertical-align: middle;\n",
       "    }\n",
       "\n",
       "    .dataframe tbody tr th {\n",
       "        vertical-align: top;\n",
       "    }\n",
       "\n",
       "    .dataframe thead th {\n",
       "        text-align: right;\n",
       "    }\n",
       "</style>\n",
       "<table border=\"1\" class=\"dataframe\">\n",
       "  <thead>\n",
       "    <tr style=\"text-align: right;\">\n",
       "      <th></th>\n",
       "      <th>Rank_Avg</th>\n",
       "      <th>Draft_Rank</th>\n",
       "      <th>Season_Rank</th>\n",
       "    </tr>\n",
       "    <tr>\n",
       "      <th>Expert Name</th>\n",
       "      <th></th>\n",
       "      <th></th>\n",
       "      <th></th>\n",
       "    </tr>\n",
       "  </thead>\n",
       "  <tbody>\n",
       "    <tr>\n",
       "      <th>Jason Moore - The Fantasy Footballers</th>\n",
       "      <td>8.5</td>\n",
       "      <td>3.0</td>\n",
       "      <td>14.0</td>\n",
       "    </tr>\n",
       "    <tr>\n",
       "      <th>Robert Waziak - Pyromaniac</th>\n",
       "      <td>6.0</td>\n",
       "      <td>5.0</td>\n",
       "      <td>7.0</td>\n",
       "    </tr>\n",
       "    <tr>\n",
       "      <th>Pat Fitzmaurice - The Football Girl</th>\n",
       "      <td>4.0</td>\n",
       "      <td>6.0</td>\n",
       "      <td>2.0</td>\n",
       "    </tr>\n",
       "    <tr>\n",
       "      <th>Jason Longfellow - Razzball</th>\n",
       "      <td>15.0</td>\n",
       "      <td>7.0</td>\n",
       "      <td>23.0</td>\n",
       "    </tr>\n",
       "    <tr>\n",
       "      <th>Staff Rankings - ScoutFantasy</th>\n",
       "      <td>16.0</td>\n",
       "      <td>8.0</td>\n",
       "      <td>24.0</td>\n",
       "    </tr>\n",
       "  </tbody>\n",
       "</table>\n",
       "</div>"
      ],
      "text/plain": [
       "                                       Rank_Avg  Draft_Rank  Season_Rank\n",
       "Expert Name                                                             \n",
       "Jason Moore - The Fantasy Footballers       8.5         3.0         14.0\n",
       "Robert Waziak - Pyromaniac                  6.0         5.0          7.0\n",
       "Pat Fitzmaurice - The Football Girl         4.0         6.0          2.0\n",
       "Jason Longfellow - Razzball                15.0         7.0         23.0\n",
       "Staff Rankings - ScoutFantasy              16.0         8.0         24.0"
      ]
     },
     "execution_count": 13,
     "metadata": {},
     "output_type": "execute_result"
    }
   ],
   "source": [
    "expert_ranks = []\n",
    "for i in range(len(np.unique(expert))):\n",
    "    expert_ranks.append( (i,comp_score[i]) )\n",
    "expert_ranks = sorted(expert_ranks, key=lambda tup: tup[1])\n",
    "exp_labels = [i[0] for i in sorted(expert_ranks, key=lambda tup: tup[1])]\n",
    "ordered_ranks = list(i+1 for i in range(len(expert_ranks)))\n",
    "ordered_ranking = []\n",
    "for i in expert:\n",
    "    loc = exp_labels.index(i)\n",
    "    ordered_ranking.append(ordered_ranks[loc])\n",
    "new_df['expert_level'] = ordered_ranking\n",
    "new_df[new_df['expert_level'] == 1][['Rank_Avg','Draft_Rank','Season_Rank']].head()"
   ]
  },
  {
   "cell_type": "markdown",
   "metadata": {},
   "source": [
    "# Plotting the Experts"
   ]
  },
  {
   "cell_type": "code",
   "execution_count": 14,
   "metadata": {},
   "outputs": [
    {
     "data": {
      "image/png": "[encoded data removed]",
      "text/plain": [
       "<matplotlib.figure.Figure at 0x10eff91d0>"
      ]
     },
     "metadata": {},
     "output_type": "display_data"
    }
   ],
   "source": [
    "plt.figure(figsize=(14,8))\n",
    "plt.title(\"Experts by Overall Ranking Average\")\n",
    "ax = sns.boxplot(data=new_df, x='Rank_Avg', y='expert_level', orient=\"h\")"
   ]
  },
  {
   "cell_type": "code",
   "execution_count": 15,
   "metadata": {},
   "outputs": [
    {
     "data": {
      "image/png": "[encoded data removed]",
      "text/plain": [
       "<matplotlib.figure.Figure at 0x10eff97b8>"
      ]
     },
     "metadata": {},
     "output_type": "display_data"
    }
   ],
   "source": [
    "plt.figure(figsize=(14,8))\n",
    "plt.title(\"Experts by Draft Rank\")\n",
    "ax = sns.boxplot(data=new_df, x='Draft_Rank', y='expert_level', orient=\"h\")"
   ]
  },
  {
   "cell_type": "code",
   "execution_count": 16,
   "metadata": {},
   "outputs": [
    {
     "data": {
      "image/png": "[encoded data removed]",
      "text/plain": [
       "<matplotlib.figure.Figure at 0x10eff9e48>"
      ]
     },
     "metadata": {},
     "output_type": "display_data"
    }
   ],
   "source": [
    "plt.figure(figsize=(14,8))\n",
    "plt.title(\"Experts by In-Season Ranking\")\n",
    "ax = sns.boxplot(data=new_df, x='Season_Rank', y='expert_level', orient=\"h\")"
   ]
  },
  {
   "cell_type": "markdown",
   "metadata": {},
   "source": [
    "### Recommended Experts to Follow for 2018"
   ]
  },
  {
   "cell_type": "code",
   "execution_count": 17,
   "metadata": {},
   "outputs": [
    {
     "data": {
      "text/html": [
       "<div>\n",
       "<style scoped>\n",
       "    .dataframe tbody tr th:only-of-type {\n",
       "        vertical-align: middle;\n",
       "    }\n",
       "\n",
       "    .dataframe tbody tr th {\n",
       "        vertical-align: top;\n",
       "    }\n",
       "\n",
       "    .dataframe thead th {\n",
       "        text-align: right;\n",
       "    }\n",
       "</style>\n",
       "<table border=\"1\" class=\"dataframe\">\n",
       "  <thead>\n",
       "    <tr style=\"text-align: right;\">\n",
       "      <th></th>\n",
       "      <th>Draft_Rank</th>\n",
       "      <th>Season_Rank</th>\n",
       "    </tr>\n",
       "    <tr>\n",
       "      <th>Expert Name</th>\n",
       "      <th></th>\n",
       "      <th></th>\n",
       "    </tr>\n",
       "  </thead>\n",
       "  <tbody>\n",
       "    <tr>\n",
       "      <th>Jason Moore - The Fantasy Footballers</th>\n",
       "      <td>3.0</td>\n",
       "      <td>14.0</td>\n",
       "    </tr>\n",
       "    <tr>\n",
       "      <th>Robert Waziak - Pyromaniac</th>\n",
       "      <td>5.0</td>\n",
       "      <td>7.0</td>\n",
       "    </tr>\n",
       "    <tr>\n",
       "      <th>Pat Fitzmaurice - The Football Girl</th>\n",
       "      <td>6.0</td>\n",
       "      <td>2.0</td>\n",
       "    </tr>\n",
       "    <tr>\n",
       "      <th>Jason Longfellow - Razzball</th>\n",
       "      <td>7.0</td>\n",
       "      <td>23.0</td>\n",
       "    </tr>\n",
       "    <tr>\n",
       "      <th>Staff Rankings - ScoutFantasy</th>\n",
       "      <td>8.0</td>\n",
       "      <td>24.0</td>\n",
       "    </tr>\n",
       "    <tr>\n",
       "      <th>Kevin Wheeler - NFL Mock</th>\n",
       "      <td>10.0</td>\n",
       "      <td>33.0</td>\n",
       "    </tr>\n",
       "    <tr>\n",
       "      <th>Ken Zalis - Pressbox</th>\n",
       "      <td>15.0</td>\n",
       "      <td>21.0</td>\n",
       "    </tr>\n",
       "    <tr>\n",
       "      <th>Justin Boone - theScore</th>\n",
       "      <td>16.0</td>\n",
       "      <td>4.0</td>\n",
       "    </tr>\n",
       "    <tr>\n",
       "      <th>Jeff Ratcliffe - Pro Football Focus</th>\n",
       "      <td>23.0</td>\n",
       "      <td>15.0</td>\n",
       "    </tr>\n",
       "    <tr>\n",
       "      <th>Nick Mariano - RotoBaller</th>\n",
       "      <td>38.0</td>\n",
       "      <td>9.0</td>\n",
       "    </tr>\n",
       "    <tr>\n",
       "      <th>Kevin Hanson - EDSFootball</th>\n",
       "      <td>48.0</td>\n",
       "      <td>20.0</td>\n",
       "    </tr>\n",
       "    <tr>\n",
       "      <th>Mauricio Gutierrez - Estadio Fantasy</th>\n",
       "      <td>54.0</td>\n",
       "      <td>28.0</td>\n",
       "    </tr>\n",
       "  </tbody>\n",
       "</table>\n",
       "</div>"
      ],
      "text/plain": [
       "                                       Draft_Rank  Season_Rank\n",
       "Expert Name                                                   \n",
       "Jason Moore - The Fantasy Footballers         3.0         14.0\n",
       "Robert Waziak - Pyromaniac                    5.0          7.0\n",
       "Pat Fitzmaurice - The Football Girl           6.0          2.0\n",
       "Jason Longfellow - Razzball                   7.0         23.0\n",
       "Staff Rankings - ScoutFantasy                 8.0         24.0\n",
       "Kevin Wheeler - NFL Mock                     10.0         33.0\n",
       "Ken Zalis - Pressbox                         15.0         21.0\n",
       "Justin Boone - theScore                      16.0          4.0\n",
       "Jeff Ratcliffe - Pro Football Focus          23.0         15.0\n",
       "Nick Mariano - RotoBaller                    38.0          9.0\n",
       "Kevin Hanson - EDSFootball                   48.0         20.0\n",
       "Mauricio Gutierrez - Estadio Fantasy         54.0         28.0"
      ]
     },
     "execution_count": 17,
     "metadata": {},
     "output_type": "execute_result"
    }
   ],
   "source": [
    "new_df[new_df['expert_level'] == 1][['Draft_Rank','Season_Rank']]"
   ]
  },
  {
   "cell_type": "code",
   "execution_count": null,
   "metadata": {},
   "outputs": [],
   "source": []
  }
 ],
 "metadata": {
  "kernelspec": {
   "display_name": "Python 3",
   "language": "python",
   "name": "python3"
  },
  "language_info": {
   "codemirror_mode": {
    "name": "ipython",
    "version": 3
   },
   "file_extension": ".py",
   "mimetype": "text/x-python",
   "name": "python",
   "nbconvert_exporter": "python",
   "pygments_lexer": "ipython3",
   "version": "3.6.4"
  }
 },
 "nbformat": 4,
 "nbformat_minor": 2
}
