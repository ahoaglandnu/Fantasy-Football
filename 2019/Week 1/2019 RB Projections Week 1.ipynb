{
 "cells": [
  {
   "cell_type": "code",
   "execution_count": 1,
   "metadata": {},
   "outputs": [],
   "source": [
    "%matplotlib inline\n",
    "import numpy as np, pandas as pd, matplotlib.pyplot as plt, seaborn as sns\n",
    "from sklearn.mixture import GaussianMixture\n",
    "plt.style.use('ggplot')"
   ]
  },
  {
   "cell_type": "code",
   "execution_count": 2,
   "metadata": {},
   "outputs": [],
   "source": [
    "df = pd.read_excel('rb2018.xlsx')\n",
    "df['TD/G'] = df['TD'] / df['G']"
   ]
  },
  {
   "cell_type": "markdown",
   "metadata": {},
   "source": [
    "### Cluster 2018 RBs into Tiers"
   ]
  },
  {
   "cell_type": "code",
   "execution_count": 3,
   "metadata": {},
   "outputs": [],
   "source": [
    "X = df[['Rk','G', 'GS', 'Att', 'Yds', 'TD',\n",
    "        'Lng', 'Y/A', 'Y/G', 'Fmb', 'TD/G']].values\n",
    "lowest_bic = np.infty\n",
    "lowest_aic = np.infty\n",
    "bic = []\n",
    "aic = []\n",
    "n_components_range = range(1, 11)\n",
    "cv_types = ['spherical', 'tied', 'diag', 'full']\n",
    "for cv_type in cv_types:\n",
    "    for n_components in n_components_range:\n",
    "        gmm = GaussianMixture(n_components=n_components,\n",
    "                                      covariance_type=cv_type,random_state=42)\n",
    "        gmm.fit(X)\n",
    "        bic.append(gmm.bic(X))\n",
    "        aic.append(gmm.aic(X))\n",
    "        if bic[-1] < lowest_bic and aic[-1] < lowest_aic:\n",
    "            lowest_bic = bic[-1]\n",
    "            lowest_aic = aic[-1]\n",
    "            best_gmm = gmm\n",
    "            \n",
    "best_gmm.fit(X)\n",
    "tier = best_gmm.predict(X)\n",
    "df['tier'] = tier"
   ]
  },
  {
   "cell_type": "code",
   "execution_count": 4,
   "metadata": {},
   "outputs": [],
   "source": [
    "l = []\n",
    "for item in tier:\n",
    "    if item not in l:\n",
    "        l.append(item)\n",
    "tier_ranks = []\n",
    "for i in range(len(np.unique(tier))):\n",
    "    tier_ranks.append((i,l[i]))\n",
    "tier_ranks = sorted(tier_ranks, key=lambda tup: tup[1])\n",
    "ordered_ranks = list(i+1 for i in range(len(tier_ranks)))\n",
    "ordered_ranking = []\n",
    "for i in tier:\n",
    "    loc = l.index(i)\n",
    "    ordered_ranking.append(ordered_ranks[loc])\n",
    "    \n",
    "df['tier'] = ordered_ranking"
   ]
  },
  {
   "cell_type": "code",
   "execution_count": 5,
   "metadata": {},
   "outputs": [],
   "source": [
    "df['tier_min_y/g'] = df.groupby('tier')['Y/G'].transform('min')\n",
    "df['tier_avg_y/g'] = df.groupby('tier')['Y/G'].transform('mean')\n",
    "df['tier_max_y/g'] = df.groupby('tier')['Y/G'].transform('max')\n",
    "df['tier_min_td/g'] = df.groupby('tier')['TD/G'].transform('min')\n",
    "df['tier_avg_td/g'] = df.groupby('tier')['TD/G'].transform('mean')\n",
    "df['tier_max_td/g'] = df.groupby('tier')['TD/G'].transform('max')"
   ]
  },
  {
   "cell_type": "code",
   "execution_count": 6,
   "metadata": {},
   "outputs": [
    {
     "data": {
      "image/png": "[encoded data removed]",
      "text/plain": [
       "<Figure size 1008x576 with 1 Axes>"
      ]
     },
     "metadata": {
      "needs_background": "light"
     },
     "output_type": "display_data"
    }
   ],
   "source": [
    "plt.figure(figsize=(14,8))\n",
    "plt.title(\"2018 RBs by Tier\")\n",
    "ax = sns.boxplot(data=df, x='Rk', y='tier', orient=\"h\")"
   ]
  },
  {
   "cell_type": "markdown",
   "metadata": {},
   "source": [
    "### Upload Week 1 Rankings"
   ]
  },
  {
   "cell_type": "code",
   "execution_count": 7,
   "metadata": {},
   "outputs": [],
   "source": [
    "df2 = pd.read_csv('2019_wk_1_rb.csv')\n",
    "df2 = df2.drop(['Tier','WSIS'],axis=1)"
   ]
  },
  {
   "cell_type": "code",
   "execution_count": 8,
   "metadata": {},
   "outputs": [
    {
     "name": "stdout",
     "output_type": "stream",
     "text": [
      "<class 'pandas.core.frame.DataFrame'>\n",
      "RangeIndex: 156 entries, 0 to 155\n",
      "Data columns (total 8 columns):\n",
      "Rank             154 non-null float64\n",
      "Running Backs    154 non-null object\n",
      "Team             154 non-null object\n",
      "Opp              138 non-null object\n",
      "Best             154 non-null float64\n",
      "Worst            154 non-null float64\n",
      "Avg              154 non-null float64\n",
      "Std Dev          154 non-null float64\n",
      "dtypes: float64(5), object(3)\n",
      "memory usage: 9.8+ KB\n"
     ]
    }
   ],
   "source": [
    "df2.info()"
   ]
  },
  {
   "cell_type": "code",
   "execution_count": 9,
   "metadata": {},
   "outputs": [
    {
     "data": {
      "text/html": [
       "<div>\n",
       "<style scoped>\n",
       "    .dataframe tbody tr th:only-of-type {\n",
       "        vertical-align: middle;\n",
       "    }\n",
       "\n",
       "    .dataframe tbody tr th {\n",
       "        vertical-align: top;\n",
       "    }\n",
       "\n",
       "    .dataframe thead th {\n",
       "        text-align: right;\n",
       "    }\n",
       "</style>\n",
       "<table border=\"1\" class=\"dataframe\">\n",
       "  <thead>\n",
       "    <tr style=\"text-align: right;\">\n",
       "      <th></th>\n",
       "      <th>Rank</th>\n",
       "      <th>Running Backs</th>\n",
       "      <th>Team</th>\n",
       "      <th>Opp</th>\n",
       "      <th>Best</th>\n",
       "      <th>Worst</th>\n",
       "      <th>Avg</th>\n",
       "      <th>Std Dev</th>\n",
       "    </tr>\n",
       "  </thead>\n",
       "  <tbody>\n",
       "    <tr>\n",
       "      <th>151</th>\n",
       "      <td>152.0</td>\n",
       "      <td>Andre Ellington</td>\n",
       "      <td>FA</td>\n",
       "      <td>NaN</td>\n",
       "      <td>115.0</td>\n",
       "      <td>120.0</td>\n",
       "      <td>117.5</td>\n",
       "      <td>2.5</td>\n",
       "    </tr>\n",
       "    <tr>\n",
       "      <th>152</th>\n",
       "      <td>153.0</td>\n",
       "      <td>Jamize Olawale</td>\n",
       "      <td>DAL</td>\n",
       "      <td>vs. NYG</td>\n",
       "      <td>117.0</td>\n",
       "      <td>125.0</td>\n",
       "      <td>121.0</td>\n",
       "      <td>4.0</td>\n",
       "    </tr>\n",
       "    <tr>\n",
       "      <th>153</th>\n",
       "      <td>154.0</td>\n",
       "      <td>Senorise Perry</td>\n",
       "      <td>BUF</td>\n",
       "      <td>at NYJ</td>\n",
       "      <td>131.0</td>\n",
       "      <td>133.0</td>\n",
       "      <td>132.0</td>\n",
       "      <td>1.0</td>\n",
       "    </tr>\n",
       "    <tr>\n",
       "      <th>154</th>\n",
       "      <td>NaN</td>\n",
       "      <td>NaN</td>\n",
       "      <td>NaN</td>\n",
       "      <td>NaN</td>\n",
       "      <td>NaN</td>\n",
       "      <td>NaN</td>\n",
       "      <td>NaN</td>\n",
       "      <td>NaN</td>\n",
       "    </tr>\n",
       "    <tr>\n",
       "      <th>155</th>\n",
       "      <td>NaN</td>\n",
       "      <td>NaN</td>\n",
       "      <td>NaN</td>\n",
       "      <td>NaN</td>\n",
       "      <td>NaN</td>\n",
       "      <td>NaN</td>\n",
       "      <td>NaN</td>\n",
       "      <td>NaN</td>\n",
       "    </tr>\n",
       "  </tbody>\n",
       "</table>\n",
       "</div>"
      ],
      "text/plain": [
       "      Rank    Running Backs  Team      Opp   Best  Worst    Avg  Std Dev\n",
       "151  152.0  Andre Ellington    FA      NaN  115.0  120.0  117.5      2.5\n",
       "152  153.0   Jamize Olawale   DAL  vs. NYG  117.0  125.0  121.0      4.0\n",
       "153  154.0   Senorise Perry  BUF    at NYJ  131.0  133.0  132.0      1.0\n",
       "154    NaN              NaN   NaN      NaN    NaN    NaN    NaN      NaN\n",
       "155    NaN              NaN   NaN      NaN    NaN    NaN    NaN      NaN"
      ]
     },
     "execution_count": 9,
     "metadata": {},
     "output_type": "execute_result"
    }
   ],
   "source": [
    "df2.tail()"
   ]
  },
  {
   "cell_type": "code",
   "execution_count": 10,
   "metadata": {},
   "outputs": [],
   "source": [
    "df2 = df2[0:154]"
   ]
  },
  {
   "cell_type": "code",
   "execution_count": 11,
   "metadata": {},
   "outputs": [],
   "source": [
    "X = df2[['Rank','Best', 'Worst', 'Avg','Std Dev']].values\n",
    "lowest_bic = np.infty\n",
    "lowest_aic = np.infty\n",
    "bic = []\n",
    "aic = []\n",
    "n_components_range = range(1, 11)\n",
    "cv_types = ['spherical', 'tied', 'diag', 'full']\n",
    "for cv_type in cv_types:\n",
    "    for n_components in n_components_range:\n",
    "        gmm = GaussianMixture(n_components=n_components,\n",
    "                                      covariance_type=cv_type,random_state=42)\n",
    "        gmm.fit(X)\n",
    "        bic.append(gmm.bic(X))\n",
    "        aic.append(gmm.aic(X))\n",
    "        if bic[-1] < lowest_bic and aic[-1] < lowest_aic:\n",
    "            lowest_bic = bic[-1]\n",
    "            lowest_aic = aic[-1]\n",
    "            best_gmm = gmm\n",
    "best_gmm.fit(X)\n",
    "tier = best_gmm.predict(X)\n",
    "df2['tier'] = tier\n",
    "\n",
    "l = []\n",
    "for item in tier:\n",
    "    if item not in l:\n",
    "        l.append(item)\n",
    "\n",
    "tier_ranks = []\n",
    "for i in range(len(np.unique(tier))):\n",
    "    tier_ranks.append((i,l[i]))\n",
    "tier_ranks = sorted(tier_ranks, key=lambda tup: tup[1])    \n",
    "ordered_ranks = list(i+1 for i in range(len(tier_ranks)))\n",
    "ordered_ranking = []\n",
    "for i in tier:\n",
    "    loc = l.index(i)\n",
    "    ordered_ranking.append(ordered_ranks[loc])\n",
    "df2['tier'] = ordered_ranking"
   ]
  },
  {
   "cell_type": "code",
   "execution_count": 12,
   "metadata": {},
   "outputs": [
    {
     "data": {
      "image/png": "[encoded data removed]",
      "text/plain": [
       "<Figure size 1008x576 with 1 Axes>"
      ]
     },
     "metadata": {
      "needs_background": "light"
     },
     "output_type": "display_data"
    }
   ],
   "source": [
    "plt.figure(figsize=(14,8))\n",
    "plt.title(\"2019 RB Tiers vs Rank\")\n",
    "ax = sns.boxplot(data=df2, x='Rank', y='tier', hue='tier', orient=\"h\")"
   ]
  },
  {
   "cell_type": "markdown",
   "metadata": {},
   "source": [
    "### Use the 2018 Tier Stats to Create Fantasy Point Projection Ranges"
   ]
  },
  {
   "cell_type": "code",
   "execution_count": 13,
   "metadata": {},
   "outputs": [],
   "source": [
    "final = df.drop_duplicates('tier')\n",
    "final = final[['tier','tier_min_y/g','tier_avg_y/g','tier_max_y/g',\n",
    "               'tier_min_td/g', 'tier_avg_td/g','tier_max_td/g']]"
   ]
  },
  {
   "cell_type": "code",
   "execution_count": 14,
   "metadata": {},
   "outputs": [],
   "source": [
    "final['fp_min'] = (final['tier_min_y/g'] / 10) + (final['tier_min_td/g'] * 6) \n",
    "final['fp_avg'] = (final['tier_avg_y/g'] / 10) + (final['tier_avg_td/g'] * 6) \n",
    "final['fp_max'] = (final['tier_max_y/g'] / 10) + (final['tier_max_td/g'] * 6) \n",
    "final = final.reset_index(drop=True)"
   ]
  },
  {
   "cell_type": "code",
   "execution_count": 15,
   "metadata": {},
   "outputs": [],
   "source": [
    "proj = pd.DataFrame(columns=['Running Backs','Team','Opp'])\n",
    "for t in final.tier.values:\n",
    "    temp = df2[df2['tier'] == t]\n",
    "    temp = temp.reset_index(drop=True)\n",
    "    temp['fp_min'] = final.loc[t-1]['fp_min']\n",
    "    temp['fp_avg'] = final.loc[t-1]['fp_avg']\n",
    "    temp['fp_max'] = final.loc[t-1]['fp_max']\n",
    "    proj = pd.concat([proj,temp],sort=False)"
   ]
  },
  {
   "cell_type": "code",
   "execution_count": 16,
   "metadata": {},
   "outputs": [],
   "source": [
    "proj = proj[['Running Backs', 'Team', 'Opp', 'tier', 'fp_min', 'fp_avg', 'fp_max']]\n",
    "proj = proj.reset_index(drop=True)"
   ]
  },
  {
   "cell_type": "code",
   "execution_count": 17,
   "metadata": {},
   "outputs": [
    {
     "data": {
      "text/html": [
       "<div>\n",
       "<style scoped>\n",
       "    .dataframe tbody tr th:only-of-type {\n",
       "        vertical-align: middle;\n",
       "    }\n",
       "\n",
       "    .dataframe tbody tr th {\n",
       "        vertical-align: top;\n",
       "    }\n",
       "\n",
       "    .dataframe thead th {\n",
       "        text-align: right;\n",
       "    }\n",
       "</style>\n",
       "<table border=\"1\" class=\"dataframe\">\n",
       "  <thead>\n",
       "    <tr style=\"text-align: right;\">\n",
       "      <th></th>\n",
       "      <th>Running Backs</th>\n",
       "      <th>Team</th>\n",
       "      <th>Opp</th>\n",
       "      <th>tier</th>\n",
       "      <th>fp_min</th>\n",
       "      <th>fp_avg</th>\n",
       "      <th>fp_max</th>\n",
       "    </tr>\n",
       "  </thead>\n",
       "  <tbody>\n",
       "    <tr>\n",
       "      <th>0</th>\n",
       "      <td>Saquon Barkley</td>\n",
       "      <td>NYG</td>\n",
       "      <td>at DAL</td>\n",
       "      <td>1.0</td>\n",
       "      <td>10.57</td>\n",
       "      <td>12.865286</td>\n",
       "      <td>16.845714</td>\n",
       "    </tr>\n",
       "    <tr>\n",
       "      <th>1</th>\n",
       "      <td>Christian McCaffrey</td>\n",
       "      <td>CAR</td>\n",
       "      <td>vs. LAR</td>\n",
       "      <td>1.0</td>\n",
       "      <td>10.57</td>\n",
       "      <td>12.865286</td>\n",
       "      <td>16.845714</td>\n",
       "    </tr>\n",
       "    <tr>\n",
       "      <th>2</th>\n",
       "      <td>Alvin Kamara</td>\n",
       "      <td>NO</td>\n",
       "      <td>vs. HOU</td>\n",
       "      <td>1.0</td>\n",
       "      <td>10.57</td>\n",
       "      <td>12.865286</td>\n",
       "      <td>16.845714</td>\n",
       "    </tr>\n",
       "    <tr>\n",
       "      <th>3</th>\n",
       "      <td>Dalvin Cook</td>\n",
       "      <td>MIN</td>\n",
       "      <td>vs. ATL</td>\n",
       "      <td>1.0</td>\n",
       "      <td>10.57</td>\n",
       "      <td>12.865286</td>\n",
       "      <td>16.845714</td>\n",
       "    </tr>\n",
       "    <tr>\n",
       "      <th>4</th>\n",
       "      <td>Nick Chubb</td>\n",
       "      <td>CLE</td>\n",
       "      <td>vs. TEN</td>\n",
       "      <td>1.0</td>\n",
       "      <td>10.57</td>\n",
       "      <td>12.865286</td>\n",
       "      <td>16.845714</td>\n",
       "    </tr>\n",
       "  </tbody>\n",
       "</table>\n",
       "</div>"
      ],
      "text/plain": [
       "         Running Backs Team      Opp  tier  fp_min     fp_avg     fp_max\n",
       "0       Saquon Barkley  NYG   at DAL   1.0   10.57  12.865286  16.845714\n",
       "1  Christian McCaffrey  CAR  vs. LAR   1.0   10.57  12.865286  16.845714\n",
       "2         Alvin Kamara   NO  vs. HOU   1.0   10.57  12.865286  16.845714\n",
       "3          Dalvin Cook  MIN  vs. ATL   1.0   10.57  12.865286  16.845714\n",
       "4           Nick Chubb  CLE  vs. TEN   1.0   10.57  12.865286  16.845714"
      ]
     },
     "execution_count": 17,
     "metadata": {},
     "output_type": "execute_result"
    }
   ],
   "source": [
    "proj.head()"
   ]
  },
  {
   "cell_type": "code",
   "execution_count": 18,
   "metadata": {},
   "outputs": [],
   "source": [
    "proj.to_csv('rb_wk1_proj.csv',index=False)"
   ]
  },
  {
   "cell_type": "code",
   "execution_count": null,
   "metadata": {},
   "outputs": [],
   "source": []
  }
 ],
 "metadata": {
  "kernelspec": {
   "display_name": "Python 3",
   "language": "python",
   "name": "python3"
  },
  "language_info": {
   "codemirror_mode": {
    "name": "ipython",
    "version": 3
   },
   "file_extension": ".py",
   "mimetype": "text/x-python",
   "name": "python",
   "nbconvert_exporter": "python",
   "pygments_lexer": "ipython3",
   "version": "3.7.4"
  }
 },
 "nbformat": 4,
 "nbformat_minor": 2
}
