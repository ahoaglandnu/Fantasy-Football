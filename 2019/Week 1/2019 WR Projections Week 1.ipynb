{
 "cells": [
  {
   "cell_type": "code",
   "execution_count": 1,
   "metadata": {},
   "outputs": [],
   "source": [
    "%matplotlib inline\n",
    "import numpy as np, pandas as pd, matplotlib.pyplot as plt, seaborn as sns\n",
    "from sklearn.mixture import GaussianMixture\n",
    "plt.style.use('ggplot')"
   ]
  },
  {
   "cell_type": "code",
   "execution_count": 2,
   "metadata": {},
   "outputs": [],
   "source": [
    "df = pd.read_excel('wr2018.xlsx')\n",
    "df['TD/G'] = df['TD'] / df['G']"
   ]
  },
  {
   "cell_type": "code",
   "execution_count": 3,
   "metadata": {},
   "outputs": [
    {
     "data": {
      "text/html": [
       "<div>\n",
       "<style scoped>\n",
       "    .dataframe tbody tr th:only-of-type {\n",
       "        vertical-align: middle;\n",
       "    }\n",
       "\n",
       "    .dataframe tbody tr th {\n",
       "        vertical-align: top;\n",
       "    }\n",
       "\n",
       "    .dataframe thead th {\n",
       "        text-align: right;\n",
       "    }\n",
       "</style>\n",
       "<table border=\"1\" class=\"dataframe\">\n",
       "  <thead>\n",
       "    <tr style=\"text-align: right;\">\n",
       "      <th></th>\n",
       "      <th>Rk</th>\n",
       "      <th>Player</th>\n",
       "      <th>Tm</th>\n",
       "      <th>Age</th>\n",
       "      <th>Pos</th>\n",
       "      <th>G</th>\n",
       "      <th>GS</th>\n",
       "      <th>Tgt</th>\n",
       "      <th>Rec</th>\n",
       "      <th>Ctch%</th>\n",
       "      <th>Yds</th>\n",
       "      <th>Y/R</th>\n",
       "      <th>TD</th>\n",
       "      <th>Lng</th>\n",
       "      <th>Y/Tgt</th>\n",
       "      <th>R/G</th>\n",
       "      <th>Y/G</th>\n",
       "      <th>Fmb</th>\n",
       "      <th>TD/G</th>\n",
       "    </tr>\n",
       "  </thead>\n",
       "  <tbody>\n",
       "    <tr>\n",
       "      <th>0</th>\n",
       "      <td>1</td>\n",
       "      <td>Michael Thomas*+</td>\n",
       "      <td>NOR</td>\n",
       "      <td>25</td>\n",
       "      <td>WR</td>\n",
       "      <td>16</td>\n",
       "      <td>16</td>\n",
       "      <td>147</td>\n",
       "      <td>125</td>\n",
       "      <td>0.850</td>\n",
       "      <td>1405</td>\n",
       "      <td>11.2</td>\n",
       "      <td>9</td>\n",
       "      <td>72</td>\n",
       "      <td>9.6</td>\n",
       "      <td>7.8</td>\n",
       "      <td>87.8</td>\n",
       "      <td>2</td>\n",
       "      <td>0.5625</td>\n",
       "    </tr>\n",
       "    <tr>\n",
       "      <th>1</th>\n",
       "      <td>2</td>\n",
       "      <td>Zach Ertz*</td>\n",
       "      <td>PHI</td>\n",
       "      <td>28</td>\n",
       "      <td>TE</td>\n",
       "      <td>16</td>\n",
       "      <td>16</td>\n",
       "      <td>156</td>\n",
       "      <td>116</td>\n",
       "      <td>0.744</td>\n",
       "      <td>1163</td>\n",
       "      <td>10.0</td>\n",
       "      <td>8</td>\n",
       "      <td>34</td>\n",
       "      <td>7.5</td>\n",
       "      <td>7.3</td>\n",
       "      <td>72.7</td>\n",
       "      <td>1</td>\n",
       "      <td>0.5000</td>\n",
       "    </tr>\n",
       "    <tr>\n",
       "      <th>2</th>\n",
       "      <td>3</td>\n",
       "      <td>DeAndre Hopkins*+</td>\n",
       "      <td>HOU</td>\n",
       "      <td>26</td>\n",
       "      <td>WR</td>\n",
       "      <td>16</td>\n",
       "      <td>16</td>\n",
       "      <td>163</td>\n",
       "      <td>115</td>\n",
       "      <td>0.706</td>\n",
       "      <td>1572</td>\n",
       "      <td>13.7</td>\n",
       "      <td>11</td>\n",
       "      <td>49</td>\n",
       "      <td>9.6</td>\n",
       "      <td>7.2</td>\n",
       "      <td>98.3</td>\n",
       "      <td>2</td>\n",
       "      <td>0.6875</td>\n",
       "    </tr>\n",
       "    <tr>\n",
       "      <th>3</th>\n",
       "      <td>4</td>\n",
       "      <td>Julio Jones*</td>\n",
       "      <td>ATL</td>\n",
       "      <td>29</td>\n",
       "      <td>WR</td>\n",
       "      <td>16</td>\n",
       "      <td>16</td>\n",
       "      <td>170</td>\n",
       "      <td>113</td>\n",
       "      <td>0.665</td>\n",
       "      <td>1677</td>\n",
       "      <td>14.8</td>\n",
       "      <td>8</td>\n",
       "      <td>58</td>\n",
       "      <td>9.9</td>\n",
       "      <td>7.1</td>\n",
       "      <td>104.8</td>\n",
       "      <td>2</td>\n",
       "      <td>0.5000</td>\n",
       "    </tr>\n",
       "    <tr>\n",
       "      <th>4</th>\n",
       "      <td>5</td>\n",
       "      <td>Adam Thielen*</td>\n",
       "      <td>MIN</td>\n",
       "      <td>28</td>\n",
       "      <td>WR</td>\n",
       "      <td>16</td>\n",
       "      <td>16</td>\n",
       "      <td>153</td>\n",
       "      <td>113</td>\n",
       "      <td>0.739</td>\n",
       "      <td>1373</td>\n",
       "      <td>12.2</td>\n",
       "      <td>9</td>\n",
       "      <td>68</td>\n",
       "      <td>9.0</td>\n",
       "      <td>7.1</td>\n",
       "      <td>85.8</td>\n",
       "      <td>1</td>\n",
       "      <td>0.5625</td>\n",
       "    </tr>\n",
       "  </tbody>\n",
       "</table>\n",
       "</div>"
      ],
      "text/plain": [
       "   Rk             Player   Tm  Age Pos   G  GS  Tgt  Rec  Ctch%   Yds   Y/R  \\\n",
       "0   1   Michael Thomas*+  NOR   25  WR  16  16  147  125  0.850  1405  11.2   \n",
       "1   2         Zach Ertz*  PHI   28  TE  16  16  156  116  0.744  1163  10.0   \n",
       "2   3  DeAndre Hopkins*+  HOU   26  WR  16  16  163  115  0.706  1572  13.7   \n",
       "3   4       Julio Jones*  ATL   29  WR  16  16  170  113  0.665  1677  14.8   \n",
       "4   5      Adam Thielen*  MIN   28  WR  16  16  153  113  0.739  1373  12.2   \n",
       "\n",
       "   TD  Lng  Y/Tgt  R/G    Y/G  Fmb    TD/G  \n",
       "0   9   72    9.6  7.8   87.8    2  0.5625  \n",
       "1   8   34    7.5  7.3   72.7    1  0.5000  \n",
       "2  11   49    9.6  7.2   98.3    2  0.6875  \n",
       "3   8   58    9.9  7.1  104.8    2  0.5000  \n",
       "4   9   68    9.0  7.1   85.8    1  0.5625  "
      ]
     },
     "execution_count": 3,
     "metadata": {},
     "output_type": "execute_result"
    }
   ],
   "source": [
    "df.head()"
   ]
  },
  {
   "cell_type": "code",
   "execution_count": 4,
   "metadata": {},
   "outputs": [],
   "source": [
    "df = df[df['Pos'] == 'WR']"
   ]
  },
  {
   "cell_type": "code",
   "execution_count": 5,
   "metadata": {},
   "outputs": [
    {
     "data": {
      "text/plain": [
       "Index(['Rk', 'Player', 'Tm', 'Age', 'Pos', 'G', 'GS', 'Tgt', 'Rec', 'Ctch%',\n",
       "       'Yds', 'Y/R', 'TD', 'Lng', 'Y/Tgt', 'R/G', 'Y/G', 'Fmb', 'TD/G'],\n",
       "      dtype='object')"
      ]
     },
     "execution_count": 5,
     "metadata": {},
     "output_type": "execute_result"
    }
   ],
   "source": [
    "df.columns"
   ]
  },
  {
   "cell_type": "markdown",
   "metadata": {},
   "source": [
    "### Cluster 2018 WRs into Tiers"
   ]
  },
  {
   "cell_type": "code",
   "execution_count": 6,
   "metadata": {},
   "outputs": [],
   "source": [
    "X = df[['Rk','G', 'GS', 'Tgt', 'Rec', 'Ctch%','Yds', 'Y/R', \n",
    "        'TD', 'Lng', 'Y/Tgt', 'R/G', 'Y/G', 'Fmb', 'TD/G']].values\n",
    "lowest_bic = np.infty\n",
    "lowest_aic = np.infty\n",
    "bic = []\n",
    "aic = []\n",
    "n_components_range = range(1, 11)\n",
    "cv_types = ['spherical', 'tied', 'diag', 'full']\n",
    "for cv_type in cv_types:\n",
    "    for n_components in n_components_range:\n",
    "        gmm = GaussianMixture(n_components=n_components,\n",
    "                                      covariance_type=cv_type,random_state=42)\n",
    "        gmm.fit(X)\n",
    "        bic.append(gmm.bic(X))\n",
    "        aic.append(gmm.aic(X))\n",
    "        if bic[-1] < lowest_bic and aic[-1] < lowest_aic:\n",
    "            lowest_bic = bic[-1]\n",
    "            lowest_aic = aic[-1]\n",
    "            best_gmm = gmm\n",
    "            \n",
    "best_gmm.fit(X)\n",
    "tier = best_gmm.predict(X)\n",
    "df['tier'] = tier"
   ]
  },
  {
   "cell_type": "code",
   "execution_count": 7,
   "metadata": {},
   "outputs": [],
   "source": [
    "l = []\n",
    "for item in tier:\n",
    "    if item not in l:\n",
    "        l.append(item)\n",
    "tier_ranks = []\n",
    "for i in range(len(np.unique(tier))):\n",
    "    tier_ranks.append((i,l[i]))\n",
    "tier_ranks = sorted(tier_ranks, key=lambda tup: tup[1])\n",
    "ordered_ranks = list(i+1 for i in range(len(tier_ranks)))\n",
    "ordered_ranking = []\n",
    "for i in tier:\n",
    "    loc = l.index(i)\n",
    "    ordered_ranking.append(ordered_ranks[loc])\n",
    "    \n",
    "df['tier'] = ordered_ranking"
   ]
  },
  {
   "cell_type": "code",
   "execution_count": 8,
   "metadata": {},
   "outputs": [],
   "source": [
    "df['tier_min_y/g'] = df.groupby('tier')['Y/G'].transform('min')\n",
    "df['tier_avg_y/g'] = df.groupby('tier')['Y/G'].transform('mean')\n",
    "df['tier_max_y/g'] = df.groupby('tier')['Y/G'].transform('max')\n",
    "df['tier_min_td/g'] = df.groupby('tier')['TD/G'].transform('min')\n",
    "df['tier_avg_td/g'] = df.groupby('tier')['TD/G'].transform('mean')\n",
    "df['tier_max_td/g'] = df.groupby('tier')['TD/G'].transform('max')"
   ]
  },
  {
   "cell_type": "code",
   "execution_count": 9,
   "metadata": {},
   "outputs": [
    {
     "data": {
      "image/png": "[encoded data removed]",
      "text/plain": [
       "<Figure size 1008x576 with 1 Axes>"
      ]
     },
     "metadata": {
      "needs_background": "light"
     },
     "output_type": "display_data"
    }
   ],
   "source": [
    "plt.figure(figsize=(14,8))\n",
    "plt.title(\"2018 WRs by Tier\")\n",
    "ax = sns.boxplot(data=df, x='Rk', y='tier', orient=\"h\")"
   ]
  },
  {
   "cell_type": "markdown",
   "metadata": {},
   "source": [
    "### Upload Week 1 Rankings"
   ]
  },
  {
   "cell_type": "code",
   "execution_count": 10,
   "metadata": {},
   "outputs": [],
   "source": [
    "df2 = pd.read_csv('2019_wk_1_wr.csv')\n",
    "df2 = df2.drop(['Tier','WSIS'],axis=1)"
   ]
  },
  {
   "cell_type": "code",
   "execution_count": 11,
   "metadata": {},
   "outputs": [
    {
     "name": "stdout",
     "output_type": "stream",
     "text": [
      "<class 'pandas.core.frame.DataFrame'>\n",
      "RangeIndex: 186 entries, 0 to 185\n",
      "Data columns (total 8 columns):\n",
      "Rank              184 non-null float64\n",
      "Wide Receivers    184 non-null object\n",
      "Team              184 non-null object\n",
      "Opp               179 non-null object\n",
      "Best              184 non-null float64\n",
      "Worst             184 non-null float64\n",
      "Avg               184 non-null float64\n",
      "Std Dev           184 non-null float64\n",
      "dtypes: float64(5), object(3)\n",
      "memory usage: 11.7+ KB\n"
     ]
    }
   ],
   "source": [
    "df2.info()"
   ]
  },
  {
   "cell_type": "code",
   "execution_count": 12,
   "metadata": {},
   "outputs": [
    {
     "data": {
      "text/html": [
       "<div>\n",
       "<style scoped>\n",
       "    .dataframe tbody tr th:only-of-type {\n",
       "        vertical-align: middle;\n",
       "    }\n",
       "\n",
       "    .dataframe tbody tr th {\n",
       "        vertical-align: top;\n",
       "    }\n",
       "\n",
       "    .dataframe thead th {\n",
       "        text-align: right;\n",
       "    }\n",
       "</style>\n",
       "<table border=\"1\" class=\"dataframe\">\n",
       "  <thead>\n",
       "    <tr style=\"text-align: right;\">\n",
       "      <th></th>\n",
       "      <th>Rank</th>\n",
       "      <th>Wide Receivers</th>\n",
       "      <th>Team</th>\n",
       "      <th>Opp</th>\n",
       "      <th>Best</th>\n",
       "      <th>Worst</th>\n",
       "      <th>Avg</th>\n",
       "      <th>Std Dev</th>\n",
       "    </tr>\n",
       "  </thead>\n",
       "  <tbody>\n",
       "    <tr>\n",
       "      <th>181</th>\n",
       "      <td>182.0</td>\n",
       "      <td>Khadarel Hodge</td>\n",
       "      <td>CLE</td>\n",
       "      <td>vs. TEN</td>\n",
       "      <td>187.0</td>\n",
       "      <td>189.0</td>\n",
       "      <td>188.0</td>\n",
       "      <td>1.0</td>\n",
       "    </tr>\n",
       "    <tr>\n",
       "      <th>182</th>\n",
       "      <td>183.0</td>\n",
       "      <td>Marcus Johnson</td>\n",
       "      <td>IND</td>\n",
       "      <td>at LAC</td>\n",
       "      <td>189.0</td>\n",
       "      <td>194.0</td>\n",
       "      <td>191.5</td>\n",
       "      <td>2.5</td>\n",
       "    </tr>\n",
       "    <tr>\n",
       "      <th>183</th>\n",
       "      <td>184.0</td>\n",
       "      <td>Matt Slater</td>\n",
       "      <td>NE</td>\n",
       "      <td>vs. PIT</td>\n",
       "      <td>192.0</td>\n",
       "      <td>195.0</td>\n",
       "      <td>193.5</td>\n",
       "      <td>1.5</td>\n",
       "    </tr>\n",
       "    <tr>\n",
       "      <th>184</th>\n",
       "      <td>NaN</td>\n",
       "      <td>NaN</td>\n",
       "      <td>NaN</td>\n",
       "      <td>NaN</td>\n",
       "      <td>NaN</td>\n",
       "      <td>NaN</td>\n",
       "      <td>NaN</td>\n",
       "      <td>NaN</td>\n",
       "    </tr>\n",
       "    <tr>\n",
       "      <th>185</th>\n",
       "      <td>NaN</td>\n",
       "      <td>NaN</td>\n",
       "      <td>NaN</td>\n",
       "      <td>NaN</td>\n",
       "      <td>NaN</td>\n",
       "      <td>NaN</td>\n",
       "      <td>NaN</td>\n",
       "      <td>NaN</td>\n",
       "    </tr>\n",
       "  </tbody>\n",
       "</table>\n",
       "</div>"
      ],
      "text/plain": [
       "      Rank  Wide Receivers  Team      Opp   Best  Worst    Avg  Std Dev\n",
       "181  182.0  Khadarel Hodge   CLE  vs. TEN  187.0  189.0  188.0      1.0\n",
       "182  183.0  Marcus Johnson  IND    at LAC  189.0  194.0  191.5      2.5\n",
       "183  184.0     Matt Slater    NE  vs. PIT  192.0  195.0  193.5      1.5\n",
       "184    NaN             NaN   NaN      NaN    NaN    NaN    NaN      NaN\n",
       "185    NaN             NaN   NaN      NaN    NaN    NaN    NaN      NaN"
      ]
     },
     "execution_count": 12,
     "metadata": {},
     "output_type": "execute_result"
    }
   ],
   "source": [
    "df2.tail()"
   ]
  },
  {
   "cell_type": "code",
   "execution_count": 13,
   "metadata": {},
   "outputs": [],
   "source": [
    "df2 = df2[0:184]"
   ]
  },
  {
   "cell_type": "code",
   "execution_count": 14,
   "metadata": {},
   "outputs": [],
   "source": [
    "X = df2[['Rank','Best', 'Worst', 'Avg','Std Dev']].values\n",
    "lowest_bic = np.infty\n",
    "lowest_aic = np.infty\n",
    "bic = []\n",
    "aic = []\n",
    "n_components_range = range(1, 11)\n",
    "cv_types = ['spherical', 'tied', 'diag', 'full']\n",
    "for cv_type in cv_types:\n",
    "    for n_components in n_components_range:\n",
    "        gmm = GaussianMixture(n_components=n_components,\n",
    "                                      covariance_type=cv_type,random_state=42)\n",
    "        gmm.fit(X)\n",
    "        bic.append(gmm.bic(X))\n",
    "        aic.append(gmm.aic(X))\n",
    "        if bic[-1] < lowest_bic and aic[-1] < lowest_aic:\n",
    "            lowest_bic = bic[-1]\n",
    "            lowest_aic = aic[-1]\n",
    "            best_gmm = gmm\n",
    "best_gmm.fit(X)\n",
    "tier = best_gmm.predict(X)\n",
    "df2['tier'] = tier\n",
    "\n",
    "l = []\n",
    "for item in tier:\n",
    "    if item not in l:\n",
    "        l.append(item)\n",
    "\n",
    "tier_ranks = []\n",
    "for i in range(len(np.unique(tier))):\n",
    "    tier_ranks.append((i,l[i]))\n",
    "tier_ranks = sorted(tier_ranks, key=lambda tup: tup[1])    \n",
    "ordered_ranks = list(i+1 for i in range(len(tier_ranks)))\n",
    "ordered_ranking = []\n",
    "for i in tier:\n",
    "    loc = l.index(i)\n",
    "    ordered_ranking.append(ordered_ranks[loc])\n",
    "df2['tier'] = ordered_ranking"
   ]
  },
  {
   "cell_type": "code",
   "execution_count": 15,
   "metadata": {},
   "outputs": [
    {
     "data": {
      "image/png": "[encoded data removed]",
      "text/plain": [
       "<Figure size 1008x576 with 1 Axes>"
      ]
     },
     "metadata": {
      "needs_background": "light"
     },
     "output_type": "display_data"
    }
   ],
   "source": [
    "plt.figure(figsize=(14,8))\n",
    "plt.title(\"2019 WR Tiers vs Rank\")\n",
    "ax = sns.boxplot(data=df2, x='Rank', y='tier', hue='tier', orient=\"h\")"
   ]
  },
  {
   "cell_type": "markdown",
   "metadata": {},
   "source": [
    "### Use the 2018 Tier Stats to Create Fantasy Point Projection Ranges"
   ]
  },
  {
   "cell_type": "code",
   "execution_count": 16,
   "metadata": {},
   "outputs": [],
   "source": [
    "final = df.drop_duplicates('tier')\n",
    "final = final[['tier','tier_min_y/g','tier_avg_y/g','tier_max_y/g',\n",
    "               'tier_min_td/g', 'tier_avg_td/g','tier_max_td/g']]"
   ]
  },
  {
   "cell_type": "code",
   "execution_count": 17,
   "metadata": {},
   "outputs": [],
   "source": [
    "final['fp_min'] = (final['tier_min_y/g'] / 10) + (final['tier_min_td/g'] * 6) \n",
    "final['fp_avg'] = (final['tier_avg_y/g'] / 10) + (final['tier_avg_td/g'] * 6) \n",
    "final['fp_max'] = (final['tier_max_y/g'] / 10) + (final['tier_max_td/g'] * 6) \n",
    "final = final.reset_index(drop=True)"
   ]
  },
  {
   "cell_type": "code",
   "execution_count": 18,
   "metadata": {},
   "outputs": [],
   "source": [
    "proj = pd.DataFrame(columns=['Wide Receivers','Team','Opp'])\n",
    "for t in final.tier.values:\n",
    "    temp = df2[df2['tier'] == t]\n",
    "    temp = temp.reset_index(drop=True)\n",
    "    temp['fp_min'] = final.loc[t-1]['fp_min']\n",
    "    temp['fp_avg'] = final.loc[t-1]['fp_avg']\n",
    "    temp['fp_max'] = final.loc[t-1]['fp_max']\n",
    "    proj = pd.concat([proj,temp],sort=False)"
   ]
  },
  {
   "cell_type": "code",
   "execution_count": 19,
   "metadata": {},
   "outputs": [],
   "source": [
    "proj = proj[['Wide Receivers', 'Team', 'Opp', 'tier', 'fp_min', 'fp_avg', 'fp_max']]\n",
    "proj = proj.reset_index(drop=True)"
   ]
  },
  {
   "cell_type": "code",
   "execution_count": 20,
   "metadata": {},
   "outputs": [
    {
     "data": {
      "text/html": [
       "<div>\n",
       "<style scoped>\n",
       "    .dataframe tbody tr th:only-of-type {\n",
       "        vertical-align: middle;\n",
       "    }\n",
       "\n",
       "    .dataframe tbody tr th {\n",
       "        vertical-align: top;\n",
       "    }\n",
       "\n",
       "    .dataframe thead th {\n",
       "        text-align: right;\n",
       "    }\n",
       "</style>\n",
       "<table border=\"1\" class=\"dataframe\">\n",
       "  <thead>\n",
       "    <tr style=\"text-align: right;\">\n",
       "      <th></th>\n",
       "      <th>Wide Receivers</th>\n",
       "      <th>Team</th>\n",
       "      <th>Opp</th>\n",
       "      <th>tier</th>\n",
       "      <th>fp_min</th>\n",
       "      <th>fp_avg</th>\n",
       "      <th>fp_max</th>\n",
       "    </tr>\n",
       "  </thead>\n",
       "  <tbody>\n",
       "    <tr>\n",
       "      <th>0</th>\n",
       "      <td>DeAndre Hopkins</td>\n",
       "      <td>HOU</td>\n",
       "      <td>at NO</td>\n",
       "      <td>1.0</td>\n",
       "      <td>11.205</td>\n",
       "      <td>12.725833</td>\n",
       "      <td>14.73</td>\n",
       "    </tr>\n",
       "    <tr>\n",
       "      <th>1</th>\n",
       "      <td>Odell Beckham Jr.</td>\n",
       "      <td>CLE</td>\n",
       "      <td>vs. TEN</td>\n",
       "      <td>1.0</td>\n",
       "      <td>11.205</td>\n",
       "      <td>12.725833</td>\n",
       "      <td>14.73</td>\n",
       "    </tr>\n",
       "    <tr>\n",
       "      <th>2</th>\n",
       "      <td>Michael Thomas</td>\n",
       "      <td>NO</td>\n",
       "      <td>vs. HOU</td>\n",
       "      <td>1.0</td>\n",
       "      <td>11.205</td>\n",
       "      <td>12.725833</td>\n",
       "      <td>14.73</td>\n",
       "    </tr>\n",
       "    <tr>\n",
       "      <th>3</th>\n",
       "      <td>Mike Evans</td>\n",
       "      <td>TB</td>\n",
       "      <td>vs. SF</td>\n",
       "      <td>1.0</td>\n",
       "      <td>11.205</td>\n",
       "      <td>12.725833</td>\n",
       "      <td>14.73</td>\n",
       "    </tr>\n",
       "    <tr>\n",
       "      <th>4</th>\n",
       "      <td>Davante Adams</td>\n",
       "      <td>GB</td>\n",
       "      <td>at CHI</td>\n",
       "      <td>1.0</td>\n",
       "      <td>11.205</td>\n",
       "      <td>12.725833</td>\n",
       "      <td>14.73</td>\n",
       "    </tr>\n",
       "  </tbody>\n",
       "</table>\n",
       "</div>"
      ],
      "text/plain": [
       "      Wide Receivers Team      Opp  tier  fp_min     fp_avg  fp_max\n",
       "0    DeAndre Hopkins  HOU    at NO   1.0  11.205  12.725833   14.73\n",
       "1  Odell Beckham Jr.  CLE  vs. TEN   1.0  11.205  12.725833   14.73\n",
       "2     Michael Thomas   NO  vs. HOU   1.0  11.205  12.725833   14.73\n",
       "3         Mike Evans   TB   vs. SF   1.0  11.205  12.725833   14.73\n",
       "4      Davante Adams   GB   at CHI   1.0  11.205  12.725833   14.73"
      ]
     },
     "execution_count": 20,
     "metadata": {},
     "output_type": "execute_result"
    }
   ],
   "source": [
    "proj.head()"
   ]
  },
  {
   "cell_type": "code",
   "execution_count": 21,
   "metadata": {},
   "outputs": [],
   "source": [
    "proj.to_csv('wr_wk1_proj.csv',index=False)"
   ]
  },
  {
   "cell_type": "code",
   "execution_count": null,
   "metadata": {},
   "outputs": [],
   "source": []
  }
 ],
 "metadata": {
  "kernelspec": {
   "display_name": "Python 3",
   "language": "python",
   "name": "python3"
  },
  "language_info": {
   "codemirror_mode": {
    "name": "ipython",
    "version": 3
   },
   "file_extension": ".py",
   "mimetype": "text/x-python",
   "name": "python",
   "nbconvert_exporter": "python",
   "pygments_lexer": "ipython3",
   "version": "3.7.4"
  }
 },
 "nbformat": 4,
 "nbformat_minor": 2
}
